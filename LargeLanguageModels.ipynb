{
 "cells": [
  {
   "cell_type": "code",
   "execution_count": 170,
   "metadata": {},
   "outputs": [],
   "source": [
    "import numpy as np\n",
    "import pandas as pd\n",
    "import random\n",
    "from nltk.corpus import brown\n",
    "import string\n",
    "import matplotlib.pyplot as plt\n",
    "from sklearn.linear_model import LinearRegression\n",
    "from scipy.optimize import minimize"
   ]
  },
  {
   "cell_type": "code",
   "execution_count": 171,
   "metadata": {},
   "outputs": [],
   "source": [
    "brown_sents = brown.sents()\n",
    "\n",
    "## Use this for shorter runtime\n",
    "# brown_sents = brown.sents(categories='news')"
   ]
  },
  {
   "cell_type": "markdown",
   "metadata": {},
   "source": [
    "### Data processing"
   ]
  },
  {
   "cell_type": "code",
   "execution_count": 172,
   "metadata": {},
   "outputs": [
    {
     "name": "stderr",
     "output_type": "stream",
     "text": [
      "/usr/local/lib/python3.7/site-packages/ipykernel_launcher.py:2: VisibleDeprecationWarning: Creating an ndarray from ragged nested sequences (which is a list-or-tuple of lists-or-tuples-or ndarrays with different lengths or shapes) is deprecated. If you meant to do this, you must specify 'dtype=object' when creating the ndarray\n",
      "  \n"
     ]
    }
   ],
   "source": [
    "# Pre-processing\n",
    "brown_sents = np.array(brown_sents)\n",
    "for i, sent in enumerate(brown_sents):\n",
    "    new_sent = [''.join(char for char in word if char not in string.punctuation) for word in sent]\n",
    "    brown_sents[i] = [word.lower() for word in new_sent if word]"
   ]
  },
  {
   "cell_type": "code",
   "execution_count": 173,
   "metadata": {},
   "outputs": [],
   "source": [
    "# Split corpus into 20 subcorpora by dividing sentences randomly\n",
    "random.shuffle(brown_sents)\n",
    "split = np.array_split(brown_sents, 20)"
   ]
  },
  {
   "cell_type": "code",
   "execution_count": 174,
   "metadata": {},
   "outputs": [],
   "source": [
    "# Divide subcorpora in ranks and frequency corpora\n",
    "ranks = split[:10]\n",
    "freqs = split[10:]"
   ]
  },
  {
   "cell_type": "code",
   "execution_count": 175,
   "metadata": {},
   "outputs": [],
   "source": [
    "# Join rank sentences together\n",
    "for i, j in enumerate(ranks):\n",
    "    ranks[i] = [item for sublist in j for item in sublist]\n",
    "\n",
    "# Join frequency sentences together\n",
    "for i, j in enumerate(freqs):\n",
    "    freqs[i] = [item for sublist in j for item in sublist]"
   ]
  },
  {
   "cell_type": "markdown",
   "metadata": {},
   "source": [
    "### Calculating the ranks"
   ]
  },
  {
   "cell_type": "code",
   "execution_count": 176,
   "metadata": {},
   "outputs": [],
   "source": [
    "# For each rank subcorpus, create frequency dictionary from which ranks will be estimated\n",
    "freqs_dicts_1 = {}\n",
    "for i, j in enumerate(ranks):\n",
    "    dict_i = {}\n",
    "    for word in j:\n",
    "        if word not in dict_i:\n",
    "            dict_i[word] = 1\n",
    "        else:\n",
    "            dict_i[word] += 1\n",
    "    freqs_dicts_1[i] = dict_i"
   ]
  },
  {
   "cell_type": "code",
   "execution_count": 177,
   "metadata": {},
   "outputs": [],
   "source": [
    "# For each rank subcorpus, calculate ranks and put in dictionary\n",
    "ranks_dicts = {}\n",
    "for i in freqs_dicts_1:\n",
    "    i_dict = freqs_dicts_1[i]\n",
    "    ranked = {key: rank for rank, key in enumerate(sorted(i_dict, key=i_dict.get, reverse=True), 1)}\n",
    "    ranks_dicts[i] = ranked"
   ]
  },
  {
   "cell_type": "code",
   "execution_count": 178,
   "metadata": {},
   "outputs": [],
   "source": [
    "# Calculate average ranks\n",
    "ranks_df = pd.DataFrame(ranks_dicts)\n",
    "mean_ranks = ranks_df.mean(axis=1)"
   ]
  },
  {
   "cell_type": "markdown",
   "metadata": {},
   "source": [
    "### Calculating the frequencies"
   ]
  },
  {
   "cell_type": "code",
   "execution_count": 179,
   "metadata": {},
   "outputs": [],
   "source": [
    "# For each frequency subcorpus, create frequency dictionary\n",
    "freqs_dicts_2 = {}\n",
    "for i, j in enumerate(freqs):\n",
    "    dict_i = {}\n",
    "    for word in j:\n",
    "        if word not in dict_i:\n",
    "            dict_i[word] = 1\n",
    "        else:\n",
    "            dict_i[word] += 1\n",
    "    freqs_dicts_2[i] = dict_i"
   ]
  },
  {
   "cell_type": "code",
   "execution_count": 180,
   "metadata": {},
   "outputs": [],
   "source": [
    "# Calculate average frequencies\n",
    "freqs_df = pd.DataFrame(freqs_dicts_2)\n",
    "mean_freqs = freqs_df.mean(axis=1)"
   ]
  },
  {
   "cell_type": "markdown",
   "metadata": {},
   "source": [
    "### Estimating Zipf's law"
   ]
  },
  {
   "cell_type": "markdown",
   "metadata": {},
   "source": [
    "We estimate Zipf's law using $f(w) \\propto \\frac{1}{r(w)^{\\alpha}}$. In the following code block, the $\\alpha$ is found using maximum likelihood estimation, for which the code was taken from https://stats.stackexchange.com/questions/6780/how-to-calculate-zipfs-law-coefficient-from-a-set-of-top-frequencies ."
   ]
  },
  {
   "cell_type": "code",
   "execution_count": 181,
   "metadata": {},
   "outputs": [],
   "source": [
    "# Estimate the alpha parameter \n",
    "def loglikelihood(a):  \n",
    "    # Power law function\n",
    "    Probabilities = mean_ranks**(-a)\n",
    "\n",
    "    # Normalized\n",
    "    Probabilities = Probabilities/Probabilities.sum()\n",
    "\n",
    "    # Log Likelihoood\n",
    "    Lvector = np.log(Probabilities)\n",
    "\n",
    "    # Multiply the vector by frequencies\n",
    "    Lvector = np.log(Probabilities) * mean_freqs\n",
    "\n",
    "    # LL is the sum\n",
    "    L = Lvector.sum()\n",
    "\n",
    "    # We want to maximize LogLikelihood or minimize (-1)*LogLikelihood\n",
    "    return(-L)\n",
    "\n",
    "alpha = minimize(loglikelihood, [2]).x"
   ]
  },
  {
   "cell_type": "code",
   "execution_count": 187,
   "metadata": {},
   "outputs": [],
   "source": [
    "zipf = max(mean_freqs)/(mean_ranks**alpha)\n",
    "zipf_df = pd.concat([np.log(mean_ranks), np.log(zipf)], axis=1, sort=False)\n",
    "zipf_df.set_axis([\"Rank (log)\", \"Predicted frequency (log)\"], axis=1, inplace=True)"
   ]
  },
  {
   "cell_type": "markdown",
   "metadata": {},
   "source": [
    "### Results"
   ]
  },
  {
   "cell_type": "code",
   "execution_count": 183,
   "metadata": {},
   "outputs": [
    {
     "data": {
      "text/html": [
       "<div>\n",
       "<style scoped>\n",
       "    .dataframe tbody tr th:only-of-type {\n",
       "        vertical-align: middle;\n",
       "    }\n",
       "\n",
       "    .dataframe tbody tr th {\n",
       "        vertical-align: top;\n",
       "    }\n",
       "\n",
       "    .dataframe thead th {\n",
       "        text-align: right;\n",
       "    }\n",
       "</style>\n",
       "<table border=\"1\" class=\"dataframe\">\n",
       "  <thead>\n",
       "    <tr style=\"text-align: right;\">\n",
       "      <th></th>\n",
       "      <th>Rank</th>\n",
       "      <th>Frequency</th>\n",
       "      <th>Estimated frequency</th>\n",
       "    </tr>\n",
       "  </thead>\n",
       "  <tbody>\n",
       "    <tr>\n",
       "      <th>the</th>\n",
       "      <td>1.0</td>\n",
       "      <td>3522.2</td>\n",
       "      <td>3522.0</td>\n",
       "    </tr>\n",
       "    <tr>\n",
       "      <th>of</th>\n",
       "      <td>2.0</td>\n",
       "      <td>1820.5</td>\n",
       "      <td>1786.0</td>\n",
       "    </tr>\n",
       "    <tr>\n",
       "      <th>and</th>\n",
       "      <td>3.0</td>\n",
       "      <td>1456.5</td>\n",
       "      <td>1201.0</td>\n",
       "    </tr>\n",
       "    <tr>\n",
       "      <th>to</th>\n",
       "      <td>4.0</td>\n",
       "      <td>1320.4</td>\n",
       "      <td>906.0</td>\n",
       "    </tr>\n",
       "    <tr>\n",
       "      <th>a</th>\n",
       "      <td>5.0</td>\n",
       "      <td>1161.9</td>\n",
       "      <td>728.0</td>\n",
       "    </tr>\n",
       "    <tr>\n",
       "      <th>in</th>\n",
       "      <td>6.0</td>\n",
       "      <td>1066.3</td>\n",
       "      <td>609.0</td>\n",
       "    </tr>\n",
       "    <tr>\n",
       "      <th>that</th>\n",
       "      <td>7.4</td>\n",
       "      <td>526.5</td>\n",
       "      <td>496.0</td>\n",
       "    </tr>\n",
       "    <tr>\n",
       "      <th>is</th>\n",
       "      <td>8.1</td>\n",
       "      <td>504.9</td>\n",
       "      <td>454.0</td>\n",
       "    </tr>\n",
       "    <tr>\n",
       "      <th>was</th>\n",
       "      <td>9.3</td>\n",
       "      <td>491.5</td>\n",
       "      <td>396.0</td>\n",
       "    </tr>\n",
       "    <tr>\n",
       "      <th>for</th>\n",
       "      <td>10.2</td>\n",
       "      <td>473.4</td>\n",
       "      <td>362.0</td>\n",
       "    </tr>\n",
       "  </tbody>\n",
       "</table>\n",
       "</div>"
      ],
      "text/plain": [
       "      Rank  Frequency  Estimated frequency\n",
       "the    1.0     3522.2               3522.0\n",
       "of     2.0     1820.5               1786.0\n",
       "and    3.0     1456.5               1201.0\n",
       "to     4.0     1320.4                906.0\n",
       "a      5.0     1161.9                728.0\n",
       "in     6.0     1066.3                609.0\n",
       "that   7.4      526.5                496.0\n",
       "is     8.1      504.9                454.0\n",
       "was    9.3      491.5                396.0\n",
       "for   10.2      473.4                362.0"
      ]
     },
     "execution_count": 183,
     "metadata": {},
     "output_type": "execute_result"
    }
   ],
   "source": [
    "df = pd.concat([mean_ranks, mean_freqs, round(zipf)], axis=1, sort=False)\n",
    "df.set_axis([\"Rank\", \"Frequency\", \"Estimated frequency\"], axis=1, inplace=True)\n",
    "df = df.sort_values(by=['Rank'])\n",
    "df.head(10)"
   ]
  },
  {
   "cell_type": "code",
   "execution_count": 184,
   "metadata": {},
   "outputs": [],
   "source": [
    "# Take logs\n",
    "df_log = pd.concat([np.log(mean_ranks), np.log(mean_freqs)], axis=1, sort=False)\n",
    "df_log.set_axis([\"Rank (log)\", \"Frequency (log)\"], axis=1, inplace=True)"
   ]
  },
  {
   "cell_type": "code",
   "execution_count": 185,
   "metadata": {},
   "outputs": [
    {
     "data": {
      "image/png": "[encoded data removed]",
      "text/plain": [
       "<Figure size 432x288 with 1 Axes>"
      ]
     },
     "metadata": {
      "needs_background": "light"
     },
     "output_type": "display_data"
    }
   ],
   "source": [
    "ax = df_log.plot(x ='Rank (log)', y='Frequency (log)', kind = 'scatter')\n",
    "zipf_df.plot(x ='Rank (log)', y='Predicted frequency (log)', kind = 'line', ax=ax, color='red')\n",
    "plt.title(\"Rank-frequency distribution and Zipf's law\")\n",
    "plt.show()"
   ]
  },
  {
   "cell_type": "code",
   "execution_count": 186,
   "metadata": {},
   "outputs": [
    {
     "data": {
      "image/png": "[encoded data removed]",
      "text/plain": [
       "<Figure size 432x288 with 1 Axes>"
      ]
     },
     "metadata": {
      "needs_background": "light"
     },
     "output_type": "display_data"
    }
   ],
   "source": [
    "total_df = pd.concat([df_log, zipf_df['Predicted frequency (log)']], axis=1, sort=False)\n",
    "total_df['Error'] = total_df['Predicted frequency (log)'] - total_df['Frequency (log)']\n",
    "total_df['Zero'] = 0\n",
    "ax = total_df.plot(x ='Rank (log)', y='Error', kind = 'scatter')\n",
    "total_df.plot(x ='Rank (log)', y = 'Zero', kind = 'line', ax=ax, color='red')\n",
    "plt.ylim([-1, 1])\n",
    "plt.show()"
   ]
  },
  {
   "cell_type": "code",
   "execution_count": null,
   "metadata": {},
   "outputs": [],
   "source": []
  }
 ],
 "metadata": {
  "kernelspec": {
   "display_name": "Python 3",
   "language": "python",
   "name": "python3"
  },
  "language_info": {
   "codemirror_mode": {
    "name": "ipython",
    "version": 3
   },
   "file_extension": ".py",
   "mimetype": "text/x-python",
   "name": "python",
   "nbconvert_exporter": "python",
   "pygments_lexer": "ipython3",
   "version": "3.7.7"
  }
 },
 "nbformat": 4,
 "nbformat_minor": 2
}
