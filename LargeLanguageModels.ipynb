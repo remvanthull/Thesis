{
 "cells": [
  {
   "cell_type": "code",
   "execution_count": 121,
   "metadata": {},
   "outputs": [],
   "source": [
    "import numpy as np\n",
    "import pandas as pd\n",
    "import random\n",
    "from nltk.corpus import brown\n",
    "import string\n",
    "import matplotlib.pyplot as plt"
   ]
  },
  {
   "cell_type": "code",
   "execution_count": 165,
   "metadata": {},
   "outputs": [],
   "source": [
    "brown_sents = brown.sents()\n",
    "\n",
    "## Use this for shorter runtime\n",
    "# brown_sents = brown.sents(categories='news')"
   ]
  },
  {
   "cell_type": "markdown",
   "metadata": {},
   "source": [
    "### Data processing"
   ]
  },
  {
   "cell_type": "code",
   "execution_count": 166,
   "metadata": {},
   "outputs": [
    {
     "name": "stderr",
     "output_type": "stream",
     "text": [
      "/usr/local/lib/python3.7/site-packages/ipykernel_launcher.py:2: VisibleDeprecationWarning: Creating an ndarray from ragged nested sequences (which is a list-or-tuple of lists-or-tuples-or ndarrays with different lengths or shapes) is deprecated. If you meant to do this, you must specify 'dtype=object' when creating the ndarray\n",
      "  \n"
     ]
    }
   ],
   "source": [
    "# Pre-processing\n",
    "brown_sents = np.array(brown_sents)\n",
    "for i, sent in enumerate(brown_sents):\n",
    "    new_sent = [''.join(char for char in word if char not in string.punctuation) for word in sent]\n",
    "    brown_sents[i] = [word.lower() for word in new_sent if word]"
   ]
  },
  {
   "cell_type": "code",
   "execution_count": 167,
   "metadata": {},
   "outputs": [],
   "source": [
    "# Split corpus into 20 subcorpora by dividing sentences randomly\n",
    "random.shuffle(brown_sents)\n",
    "split = np.array_split(brown_sents, 20)"
   ]
  },
  {
   "cell_type": "code",
   "execution_count": 168,
   "metadata": {},
   "outputs": [],
   "source": [
    "# Divide subcorpora in ranks and frequency corpora\n",
    "ranks = split[:10]\n",
    "freqs = split[10:]"
   ]
  },
  {
   "cell_type": "code",
   "execution_count": 169,
   "metadata": {},
   "outputs": [],
   "source": [
    "# Join rank sentences together\n",
    "for i, j in enumerate(ranks):\n",
    "    ranks[i] = [item for sublist in j for item in sublist]\n",
    "\n",
    "# Join frequency sentences together\n",
    "for i, j in enumerate(freqs):\n",
    "    freqs[i] = [item for sublist in j for item in sublist]"
   ]
  },
  {
   "cell_type": "markdown",
   "metadata": {},
   "source": [
    "### Calculating the ranks"
   ]
  },
  {
   "cell_type": "code",
   "execution_count": 170,
   "metadata": {},
   "outputs": [],
   "source": [
    "# For each rank subcorpus, create frequency dictionary from which ranks will be estimated\n",
    "freqs_dicts_1 = {}\n",
    "for i, j in enumerate(ranks):\n",
    "    dict_i = {}\n",
    "    for word in j:\n",
    "        if word not in dict_i:\n",
    "            dict_i[word] = 1\n",
    "        else:\n",
    "            dict_i[word] += 1\n",
    "    freqs_dicts_1[i] = dict_i"
   ]
  },
  {
   "cell_type": "code",
   "execution_count": 171,
   "metadata": {},
   "outputs": [],
   "source": [
    "# For each rank subcorpus, calculate ranks and put in dictionary\n",
    "ranks_dicts = {}\n",
    "for i in freqs_dicts_1:\n",
    "    i_dict = freqs_dicts_1[i]\n",
    "    ranked = {key: rank for rank, key in enumerate(sorted(i_dict, key=i_dict.get, reverse=True), 1)}\n",
    "    ranks_dicts[i] = ranked"
   ]
  },
  {
   "cell_type": "code",
   "execution_count": 172,
   "metadata": {},
   "outputs": [],
   "source": [
    "# Calculate average ranks\n",
    "ranks_df = pd.DataFrame(ranks_dicts)\n",
    "mean_ranks = ranks_df.mean(axis=1)"
   ]
  },
  {
   "cell_type": "markdown",
   "metadata": {},
   "source": [
    "### Calculating the frequencies"
   ]
  },
  {
   "cell_type": "code",
   "execution_count": 173,
   "metadata": {},
   "outputs": [],
   "source": [
    "# For each frequency subcorpus, create frequency dictionary\n",
    "freqs_dicts_2 = {}\n",
    "for i, j in enumerate(freqs):\n",
    "    dict_i = {}\n",
    "    for word in j:\n",
    "        if word not in dict_i:\n",
    "            dict_i[word] = 1\n",
    "        else:\n",
    "            dict_i[word] += 1\n",
    "    freqs_dicts_2[i] = dict_i"
   ]
  },
  {
   "cell_type": "code",
   "execution_count": 174,
   "metadata": {},
   "outputs": [],
   "source": [
    "# Calculate average frequencies\n",
    "freqs_df = pd.DataFrame(freqs_dicts_2)\n",
    "mean_freqs = freqs_df.mean(axis=1)"
   ]
  },
  {
   "cell_type": "markdown",
   "metadata": {},
   "source": [
    "### Estimating Zipf's law"
   ]
  },
  {
   "cell_type": "code",
   "execution_count": 175,
   "metadata": {},
   "outputs": [],
   "source": [
    "zipf = max(mean_freqs) * 1/mean_ranks\n",
    "zipf\n",
    "zipf_df = pd.concat([np.log(mean_ranks), np.log(zipf)], axis=1, sort=False)\n",
    "zipf_df.set_axis([\"Rank (log)\", \"Predicted frequency (log)\"], axis=1, inplace=True)"
   ]
  },
  {
   "cell_type": "markdown",
   "metadata": {},
   "source": [
    "### Plotting results"
   ]
  },
  {
   "cell_type": "code",
   "execution_count": 176,
   "metadata": {},
   "outputs": [],
   "source": [
    "df = pd.concat([np.log(mean_ranks), np.log(mean_freqs)], axis=1, sort=False)\n",
    "df.set_axis([\"Rank (log)\", \"Frequency (log)\"], axis=1, inplace=True)"
   ]
  },
  {
   "cell_type": "code",
   "execution_count": 177,
   "metadata": {},
   "outputs": [
    {
     "data": {
      "image/png": "[encoded data removed]",
      "text/plain": [
       "<Figure size 432x288 with 1 Axes>"
      ]
     },
     "metadata": {
      "needs_background": "light"
     },
     "output_type": "display_data"
    }
   ],
   "source": [
    "ax = df.plot(x ='Rank (log)', y='Frequency (log)', kind = 'scatter')\n",
    "zipf_df.plot(x ='Rank (log)', y='Predicted frequency (log)', kind = 'line', ax=ax, color='red')\t\n",
    "plt.show()"
   ]
  },
  {
   "cell_type": "code",
   "execution_count": null,
   "metadata": {},
   "outputs": [],
   "source": []
  }
 ],
 "metadata": {
  "kernelspec": {
   "display_name": "Python 3",
   "language": "python",
   "name": "python3"
  },
  "language_info": {
   "codemirror_mode": {
    "name": "ipython",
    "version": 3
   },
   "file_extension": ".py",
   "mimetype": "text/x-python",
   "name": "python",
   "nbconvert_exporter": "python",
   "pygments_lexer": "ipython3",
   "version": "3.7.7"
  }
 },
 "nbformat": 4,
 "nbformat_minor": 2
}
