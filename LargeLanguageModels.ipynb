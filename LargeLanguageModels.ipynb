{
 "cells": [
  {
   "cell_type": "code",
   "execution_count": 329,
   "metadata": {},
   "outputs": [],
   "source": [
    "import numpy as np\n",
    "import pandas as pd\n",
    "import random\n",
    "from nltk.corpus import brown\n",
    "import string\n",
    "import matplotlib.pyplot as plt\n",
    "from sklearn.linear_model import LinearRegression\n",
    "from scipy.optimize import minimize\n",
    "import math "
   ]
  },
  {
   "cell_type": "code",
   "execution_count": 330,
   "metadata": {},
   "outputs": [],
   "source": [
    "brown_sents = brown.sents()\n",
    "\n",
    "## Use this for shorter runtime\n",
    "# brown_sents = brown.sents(categories='news')"
   ]
  },
  {
   "cell_type": "markdown",
   "metadata": {},
   "source": [
    "### Data processing"
   ]
  },
  {
   "cell_type": "code",
   "execution_count": 331,
   "metadata": {},
   "outputs": [
    {
     "name": "stderr",
     "output_type": "stream",
     "text": [
      "/usr/local/lib/python3.7/site-packages/ipykernel_launcher.py:2: VisibleDeprecationWarning: Creating an ndarray from ragged nested sequences (which is a list-or-tuple of lists-or-tuples-or ndarrays with different lengths or shapes) is deprecated. If you meant to do this, you must specify 'dtype=object' when creating the ndarray\n",
      "  \n"
     ]
    }
   ],
   "source": [
    "# Pre-processing\n",
    "brown_sents = np.array(brown_sents)\n",
    "for i, sent in enumerate(brown_sents):\n",
    "    new_sent = [''.join(char for char in word if char not in string.punctuation) for word in sent]\n",
    "    brown_sents[i] = [word.lower() for word in new_sent if word]"
   ]
  },
  {
   "cell_type": "code",
   "execution_count": 332,
   "metadata": {},
   "outputs": [],
   "source": [
    "# Split corpus into 20 subcorpora by dividing sentences randomly\n",
    "random.shuffle(brown_sents)\n",
    "split = np.array_split(brown_sents, 20)"
   ]
  },
  {
   "cell_type": "code",
   "execution_count": 333,
   "metadata": {},
   "outputs": [],
   "source": [
    "# Divide subcorpora in ranks and frequency corpora\n",
    "ranks = split[:10]\n",
    "freqs = split[10:]"
   ]
  },
  {
   "cell_type": "code",
   "execution_count": 334,
   "metadata": {},
   "outputs": [],
   "source": [
    "# Join rank sentences together\n",
    "for i, j in enumerate(ranks):\n",
    "    ranks[i] = [item for sublist in j for item in sublist]\n",
    "\n",
    "# Join frequency sentences together\n",
    "for i, j in enumerate(freqs):\n",
    "    freqs[i] = [item for sublist in j for item in sublist]"
   ]
  },
  {
   "cell_type": "markdown",
   "metadata": {},
   "source": [
    "### Calculating the ranks"
   ]
  },
  {
   "cell_type": "code",
   "execution_count": 335,
   "metadata": {},
   "outputs": [],
   "source": [
    "# For each rank subcorpus, create frequency dictionary from which ranks will be estimated\n",
    "freqs_dicts_1 = {}\n",
    "for i, j in enumerate(ranks):\n",
    "    dict_i = {}\n",
    "    for word in j:\n",
    "        if word not in dict_i:\n",
    "            dict_i[word] = 1\n",
    "        else:\n",
    "            dict_i[word] += 1\n",
    "    freqs_dicts_1[i] = dict_i"
   ]
  },
  {
   "cell_type": "code",
   "execution_count": 336,
   "metadata": {},
   "outputs": [],
   "source": [
    "# For each rank subcorpus, calculate ranks and put in dictionary\n",
    "ranks_dicts = {}\n",
    "for i in freqs_dicts_1:\n",
    "    i_dict = freqs_dicts_1[i]\n",
    "    ranked = {key: rank for rank, key in enumerate(sorted(i_dict, key=i_dict.get, reverse=True), 1)}\n",
    "    ranks_dicts[i] = ranked"
   ]
  },
  {
   "cell_type": "code",
   "execution_count": 337,
   "metadata": {},
   "outputs": [],
   "source": [
    "# Calculate average ranks\n",
    "ranks_df = pd.DataFrame(ranks_dicts)\n",
    "mean_ranks = ranks_df.mean(axis=1)"
   ]
  },
  {
   "cell_type": "markdown",
   "metadata": {},
   "source": [
    "### Calculating the frequencies"
   ]
  },
  {
   "cell_type": "code",
   "execution_count": 338,
   "metadata": {},
   "outputs": [],
   "source": [
    "# For each frequency subcorpus, create frequency dictionary\n",
    "freqs_dicts_2 = {}\n",
    "for i, j in enumerate(freqs):\n",
    "    dict_i = {}\n",
    "    for word in j:\n",
    "        if word not in dict_i:\n",
    "            dict_i[word] = 1\n",
    "        else:\n",
    "            dict_i[word] += 1\n",
    "    freqs_dicts_2[i] = dict_i"
   ]
  },
  {
   "cell_type": "code",
   "execution_count": 339,
   "metadata": {},
   "outputs": [],
   "source": [
    "# Calculate average frequencies\n",
    "freqs_df = pd.DataFrame(freqs_dicts_2)\n",
    "mean_freqs = freqs_df.mean(axis=1)"
   ]
  },
  {
   "cell_type": "markdown",
   "metadata": {},
   "source": [
    "### Estimating Zipf's law"
   ]
  },
  {
   "cell_type": "markdown",
   "metadata": {},
   "source": [
    "We estimate Zipf's law using $f(w) \\propto \\frac{1}{r(w)^{\\alpha}}$. In the following code block, the $\\alpha$ is found using maximum likelihood estimation, for which the code was taken from https://stats.stackexchange.com/questions/6780/how-to-calculate-zipfs-law-coefficient-from-a-set-of-top-frequencies ."
   ]
  },
  {
   "cell_type": "code",
   "execution_count": 340,
   "metadata": {},
   "outputs": [],
   "source": [
    "df = pd.concat([mean_ranks, mean_freqs], axis=1, sort=False)\n",
    "df.set_axis([\"Rank\", \"Frequency\"], axis=1, inplace=True)\n",
    "df = df.sort_values(by=['Rank'])"
   ]
  },
  {
   "cell_type": "code",
   "execution_count": 341,
   "metadata": {},
   "outputs": [],
   "source": [
    "# Estimate the alpha parameter \n",
    "def loglikelihood(a):  \n",
    "    # Power law function\n",
    "    Probabilities = df['Rank']**(-a)\n",
    "\n",
    "    # Normalized\n",
    "    Probabilities = Probabilities/Probabilities.sum()\n",
    "\n",
    "    # Log Likelihoood\n",
    "    Lvector = np.log(Probabilities)\n",
    "\n",
    "    # Multiply the vector by frequencies\n",
    "    Lvector = np.log(Probabilities) * df['Frequency']\n",
    "\n",
    "    # LL is the sum\n",
    "    L = Lvector.sum()\n",
    "\n",
    "    # We want to maximize LogLikelihood or minimize (-1)*LogLikelihood\n",
    "    return(-L)\n",
    "\n",
    "alpha = minimize(loglikelihood, [0.9]).x"
   ]
  },
  {
   "cell_type": "code",
   "execution_count": 342,
   "metadata": {},
   "outputs": [],
   "source": [
    "df['Estimated frequency'] = max(df['Frequency'])/df['Rank']**alpha"
   ]
  },
  {
   "cell_type": "markdown",
   "metadata": {},
   "source": [
    "### Results"
   ]
  },
  {
   "cell_type": "code",
   "execution_count": 343,
   "metadata": {},
   "outputs": [
    {
     "data": {
      "text/html": [
       "<div>\n",
       "<style scoped>\n",
       "    .dataframe tbody tr th:only-of-type {\n",
       "        vertical-align: middle;\n",
       "    }\n",
       "\n",
       "    .dataframe tbody tr th {\n",
       "        vertical-align: top;\n",
       "    }\n",
       "\n",
       "    .dataframe thead th {\n",
       "        text-align: right;\n",
       "    }\n",
       "</style>\n",
       "<table border=\"1\" class=\"dataframe\">\n",
       "  <thead>\n",
       "    <tr style=\"text-align: right;\">\n",
       "      <th></th>\n",
       "      <th>Rank</th>\n",
       "      <th>Frequency</th>\n",
       "      <th>Estimated frequency</th>\n",
       "    </tr>\n",
       "  </thead>\n",
       "  <tbody>\n",
       "    <tr>\n",
       "      <th>the</th>\n",
       "      <td>1.0</td>\n",
       "      <td>3516.4</td>\n",
       "      <td>3516.400000</td>\n",
       "    </tr>\n",
       "    <tr>\n",
       "      <th>of</th>\n",
       "      <td>2.0</td>\n",
       "      <td>1841.4</td>\n",
       "      <td>1783.019860</td>\n",
       "    </tr>\n",
       "    <tr>\n",
       "      <th>and</th>\n",
       "      <td>3.0</td>\n",
       "      <td>1469.8</td>\n",
       "      <td>1198.467103</td>\n",
       "    </tr>\n",
       "    <tr>\n",
       "      <th>to</th>\n",
       "      <td>4.0</td>\n",
       "      <td>1312.3</td>\n",
       "      <td>904.095046</td>\n",
       "    </tr>\n",
       "    <tr>\n",
       "      <th>a</th>\n",
       "      <td>5.0</td>\n",
       "      <td>1162.6</td>\n",
       "      <td>726.547385</td>\n",
       "    </tr>\n",
       "    <tr>\n",
       "      <th>in</th>\n",
       "      <td>6.0</td>\n",
       "      <td>1067.9</td>\n",
       "      <td>607.692710</td>\n",
       "    </tr>\n",
       "    <tr>\n",
       "      <th>that</th>\n",
       "      <td>7.3</td>\n",
       "      <td>538.6</td>\n",
       "      <td>501.458378</td>\n",
       "    </tr>\n",
       "    <tr>\n",
       "      <th>is</th>\n",
       "      <td>8.5</td>\n",
       "      <td>505.8</td>\n",
       "      <td>431.991822</td>\n",
       "    </tr>\n",
       "    <tr>\n",
       "      <th>was</th>\n",
       "      <td>9.7</td>\n",
       "      <td>496.5</td>\n",
       "      <td>379.561886</td>\n",
       "    </tr>\n",
       "    <tr>\n",
       "      <th>for</th>\n",
       "      <td>9.9</td>\n",
       "      <td>468.7</td>\n",
       "      <td>372.047497</td>\n",
       "    </tr>\n",
       "  </tbody>\n",
       "</table>\n",
       "</div>"
      ],
      "text/plain": [
       "      Rank  Frequency  Estimated frequency\n",
       "the    1.0     3516.4          3516.400000\n",
       "of     2.0     1841.4          1783.019860\n",
       "and    3.0     1469.8          1198.467103\n",
       "to     4.0     1312.3           904.095046\n",
       "a      5.0     1162.6           726.547385\n",
       "in     6.0     1067.9           607.692710\n",
       "that   7.3      538.6           501.458378\n",
       "is     8.5      505.8           431.991822\n",
       "was    9.7      496.5           379.561886\n",
       "for    9.9      468.7           372.047497"
      ]
     },
     "execution_count": 343,
     "metadata": {},
     "output_type": "execute_result"
    }
   ],
   "source": [
    "df.head(10)"
   ]
  },
  {
   "cell_type": "code",
   "execution_count": 344,
   "metadata": {},
   "outputs": [],
   "source": [
    "# Take logs\n",
    "df_log = np.log(df)\n",
    "df_log.set_axis([\"Rank (log)\", \"Frequency (log)\", \"Estimated frequency (log)\"], axis=1, inplace=True)"
   ]
  },
  {
   "cell_type": "code",
   "execution_count": 345,
   "metadata": {},
   "outputs": [
    {
     "data": {
      "image/png": "[encoded data removed]",
      "text/plain": [
       "<Figure size 432x288 with 1 Axes>"
      ]
     },
     "metadata": {
      "needs_background": "light"
     },
     "output_type": "display_data"
    }
   ],
   "source": [
    "ax = df_log.plot(x ='Rank (log)', y='Frequency (log)', kind = 'scatter')\n",
    "df_log.plot(x ='Rank (log)', y='Estimated frequency (log)', kind = 'line', ax=ax, color='red')\n",
    "plt.title(\"Rank-frequency distribution and Zipf's law\")\n",
    "plt.show()"
   ]
  },
  {
   "cell_type": "code",
   "execution_count": 346,
   "metadata": {},
   "outputs": [
    {
     "data": {
      "image/png": "[encoded data removed]",
      "text/plain": [
       "<Figure size 432x288 with 1 Axes>"
      ]
     },
     "metadata": {
      "needs_background": "light"
     },
     "output_type": "display_data"
    }
   ],
   "source": [
    "df_log['Error'] = df_log['Estimated frequency (log)'] - df_log['Frequency (log)']\n",
    "df_log['Zero'] = 0\n",
    "ax = df_log.plot(x ='Rank (log)', y='Error', kind = 'scatter')\n",
    "df_log.plot(x ='Rank (log)', y = 'Zero', kind = 'line', ax=ax, color='red')\n",
    "# plt.ylim([-1, 1])\n",
    "plt.title(\"Error between actual and predicted frequency\")\n",
    "plt.show()"
   ]
  },
  {
   "cell_type": "markdown",
   "metadata": {},
   "source": [
    "# Dealing with NaNs"
   ]
  },
  {
   "cell_type": "markdown",
   "metadata": {},
   "source": [
    "### Option 1: remove NaNs"
   ]
  },
  {
   "cell_type": "code",
   "execution_count": 347,
   "metadata": {},
   "outputs": [],
   "source": [
    "df_1 = pd.concat([mean_ranks, mean_freqs], axis=1, sort=False)\n",
    "df_1.set_axis([\"Rank\", \"Frequency\"], axis=1, inplace=True)\n",
    "df_1 = df_1.sort_values(by=['Rank'])\n",
    "df_1.dropna(subset = [\"Rank\"], inplace=True)\n",
    "df_1.dropna(subset = [\"Frequency\"], inplace=True)"
   ]
  },
  {
   "cell_type": "code",
   "execution_count": 349,
   "metadata": {},
   "outputs": [],
   "source": [
    "# Estimate the alpha parameter \n",
    "def loglikelihood(a):  \n",
    "    # Power law function\n",
    "    Probabilities = df_1['Rank']**(-a)\n",
    "\n",
    "    # Normalized\n",
    "    Probabilities = Probabilities/Probabilities.sum()\n",
    "\n",
    "    # Log Likelihoood\n",
    "    Lvector = np.log(Probabilities)\n",
    "\n",
    "    # Multiply the vector by frequencies\n",
    "    Lvector = np.log(Probabilities) * df_1['Frequency']\n",
    "\n",
    "    # LL is the sum\n",
    "    L = Lvector.sum()\n",
    "\n",
    "    # We want to maximize LogLikelihood or minimize (-1)*LogLikelihood\n",
    "    return(-L)\n",
    "\n",
    "alpha_1 = minimize(loglikelihood, [0.9]).x"
   ]
  },
  {
   "cell_type": "code",
   "execution_count": 350,
   "metadata": {},
   "outputs": [],
   "source": [
    "df_1['Predicted frequency'] = max(df_1['Frequency'])/(df_1['Rank']**alpha_1)\n",
    "df_1_log = np.log(df_1)\n",
    "df_1_log.set_axis([\"Rank (log)\", \"Frequency (log)\", \"Estimated frequency (log)\"], axis=1, inplace=True)"
   ]
  },
  {
   "cell_type": "code",
   "execution_count": 351,
   "metadata": {},
   "outputs": [
    {
     "data": {
      "image/png": "[encoded data removed]",
      "text/plain": [
       "<Figure size 432x288 with 1 Axes>"
      ]
     },
     "metadata": {
      "needs_background": "light"
     },
     "output_type": "display_data"
    }
   ],
   "source": [
    "ax = df_1_log.plot(x ='Rank (log)', y='Frequency (log)', kind = 'scatter')\n",
    "df_1_log.plot(x ='Rank (log)', y='Estimated frequency (log)', kind = 'line', ax=ax, color='red')\n",
    "plt.title(\"Rank-frequency distribution and Zipf's law\")\n",
    "plt.show()"
   ]
  },
  {
   "cell_type": "code",
   "execution_count": 352,
   "metadata": {},
   "outputs": [
    {
     "data": {
      "image/png": "[encoded data removed]",
      "text/plain": [
       "<Figure size 432x288 with 1 Axes>"
      ]
     },
     "metadata": {
      "needs_background": "light"
     },
     "output_type": "display_data"
    }
   ],
   "source": [
    "df_1_log['Error'] = df_1_log['Estimated frequency (log)'] - df_1_log['Frequency (log)']\n",
    "df_1_log['Zero'] = 0\n",
    "ax = df_1_log.plot(x ='Rank (log)', y='Error', kind = 'scatter')\n",
    "df_1_log.plot(x ='Rank (log)', y = 'Zero', kind = 'line', ax=ax, color='red')\n",
    "# plt.ylim([-1, 1])\n",
    "plt.title(\"Error between actual and predicted frequency\")\n",
    "plt.show()"
   ]
  },
  {
   "cell_type": "markdown",
   "metadata": {},
   "source": [
    "### Option 2: replace NaN's"
   ]
  },
  {
   "cell_type": "code",
   "execution_count": 353,
   "metadata": {},
   "outputs": [
    {
     "data": {
      "text/html": [
       "<div>\n",
       "<style scoped>\n",
       "    .dataframe tbody tr th:only-of-type {\n",
       "        vertical-align: middle;\n",
       "    }\n",
       "\n",
       "    .dataframe tbody tr th {\n",
       "        vertical-align: top;\n",
       "    }\n",
       "\n",
       "    .dataframe thead th {\n",
       "        text-align: right;\n",
       "    }\n",
       "</style>\n",
       "<table border=\"1\" class=\"dataframe\">\n",
       "  <thead>\n",
       "    <tr style=\"text-align: right;\">\n",
       "      <th></th>\n",
       "      <th>Rank</th>\n",
       "      <th>Frequency</th>\n",
       "    </tr>\n",
       "  </thead>\n",
       "  <tbody>\n",
       "    <tr>\n",
       "      <th>the</th>\n",
       "      <td>1.0</td>\n",
       "      <td>3516.4</td>\n",
       "    </tr>\n",
       "    <tr>\n",
       "      <th>of</th>\n",
       "      <td>2.0</td>\n",
       "      <td>1841.4</td>\n",
       "    </tr>\n",
       "    <tr>\n",
       "      <th>and</th>\n",
       "      <td>3.0</td>\n",
       "      <td>1469.8</td>\n",
       "    </tr>\n",
       "    <tr>\n",
       "      <th>to</th>\n",
       "      <td>4.0</td>\n",
       "      <td>1312.3</td>\n",
       "    </tr>\n",
       "    <tr>\n",
       "      <th>a</th>\n",
       "      <td>5.0</td>\n",
       "      <td>1162.6</td>\n",
       "    </tr>\n",
       "    <tr>\n",
       "      <th>...</th>\n",
       "      <td>...</td>\n",
       "      <td>...</td>\n",
       "    </tr>\n",
       "    <tr>\n",
       "      <th>observances</th>\n",
       "      <td>NaN</td>\n",
       "      <td>1.0</td>\n",
       "    </tr>\n",
       "    <tr>\n",
       "      <th>stillbuilding</th>\n",
       "      <td>NaN</td>\n",
       "      <td>1.0</td>\n",
       "    </tr>\n",
       "    <tr>\n",
       "      <th>londonbased</th>\n",
       "      <td>NaN</td>\n",
       "      <td>1.0</td>\n",
       "    </tr>\n",
       "    <tr>\n",
       "      <th>192829</th>\n",
       "      <td>NaN</td>\n",
       "      <td>1.0</td>\n",
       "    </tr>\n",
       "    <tr>\n",
       "      <th>mutuality</th>\n",
       "      <td>NaN</td>\n",
       "      <td>1.0</td>\n",
       "    </tr>\n",
       "  </tbody>\n",
       "</table>\n",
       "<p>48017 rows × 2 columns</p>\n",
       "</div>"
      ],
      "text/plain": [
       "               Rank  Frequency\n",
       "the             1.0     3516.4\n",
       "of              2.0     1841.4\n",
       "and             3.0     1469.8\n",
       "to              4.0     1312.3\n",
       "a               5.0     1162.6\n",
       "...             ...        ...\n",
       "observances     NaN        1.0\n",
       "stillbuilding   NaN        1.0\n",
       "londonbased     NaN        1.0\n",
       "192829          NaN        1.0\n",
       "mutuality       NaN        1.0\n",
       "\n",
       "[48017 rows x 2 columns]"
      ]
     },
     "execution_count": 353,
     "metadata": {},
     "output_type": "execute_result"
    }
   ],
   "source": [
    "df_2 = pd.concat([mean_ranks, mean_freqs], axis=1, sort=False)\n",
    "df_2.set_axis([\"Rank\", \"Frequency\"], axis=1, inplace=True)\n",
    "df_2 = df_2.sort_values(by=['Rank'])\n",
    "df_2"
   ]
  },
  {
   "cell_type": "code",
   "execution_count": 354,
   "metadata": {},
   "outputs": [],
   "source": [
    "df_2['Frequency'] = df_2['Frequency'].replace(np.nan, 0)\n",
    "df_2.dropna(subset = [\"Rank\"], inplace=True)"
   ]
  },
  {
   "cell_type": "code",
   "execution_count": 355,
   "metadata": {},
   "outputs": [],
   "source": [
    "# Estimate the alpha parameter \n",
    "def loglikelihood(a):  \n",
    "    # Power law function\n",
    "    Probabilities = df_2['Rank']**(-a)\n",
    "\n",
    "    # Normalized\n",
    "    Probabilities = Probabilities/Probabilities.sum()\n",
    "\n",
    "    # Log Likelihoood\n",
    "    Lvector = np.log(Probabilities)\n",
    "\n",
    "    # Multiply the vector by frequencies\n",
    "    Lvector = np.log(Probabilities) * df_2['Frequency']\n",
    "\n",
    "    # LL is the sum\n",
    "    L = Lvector.sum()\n",
    "\n",
    "    # We want to maximize LogLikelihood or minimize (-1)*LogLikelihood\n",
    "    return(-L)\n",
    "\n",
    "alpha_2 = minimize(loglikelihood, [0.9]).x"
   ]
  },
  {
   "cell_type": "code",
   "execution_count": 359,
   "metadata": {},
   "outputs": [
    {
     "name": "stderr",
     "output_type": "stream",
     "text": [
      "/usr/local/lib/python3.7/site-packages/ipykernel_launcher.py:2: RuntimeWarning: divide by zero encountered in log\n",
      "  \n"
     ]
    }
   ],
   "source": [
    "# Log(0) gives -inf, so this has to be solved\n",
    "df_2['Predicted frequency'] = max(df_2['Frequency'])/(df_2['Rank']**alpha_2)\n",
    "df_2_log = np.log(df_2)\n",
    "df_2_log.set_axis([\"Rank (log)\", \"Frequency (log)\", \"Estimated frequency (log)\"], axis=1, inplace=True)"
   ]
  },
  {
   "cell_type": "code",
   "execution_count": 360,
   "metadata": {},
   "outputs": [
    {
     "data": {
      "text/html": [
       "<div>\n",
       "<style scoped>\n",
       "    .dataframe tbody tr th:only-of-type {\n",
       "        vertical-align: middle;\n",
       "    }\n",
       "\n",
       "    .dataframe tbody tr th {\n",
       "        vertical-align: top;\n",
       "    }\n",
       "\n",
       "    .dataframe thead th {\n",
       "        text-align: right;\n",
       "    }\n",
       "</style>\n",
       "<table border=\"1\" class=\"dataframe\">\n",
       "  <thead>\n",
       "    <tr style=\"text-align: right;\">\n",
       "      <th></th>\n",
       "      <th>Rank (log)</th>\n",
       "      <th>Frequency (log)</th>\n",
       "      <th>Estimated frequency (log)</th>\n",
       "    </tr>\n",
       "  </thead>\n",
       "  <tbody>\n",
       "    <tr>\n",
       "      <th>the</th>\n",
       "      <td>0.000000</td>\n",
       "      <td>8.165193</td>\n",
       "      <td>8.165193</td>\n",
       "    </tr>\n",
       "    <tr>\n",
       "      <th>of</th>\n",
       "      <td>0.693147</td>\n",
       "      <td>7.518281</td>\n",
       "      <td>7.486064</td>\n",
       "    </tr>\n",
       "    <tr>\n",
       "      <th>and</th>\n",
       "      <td>1.098612</td>\n",
       "      <td>7.292882</td>\n",
       "      <td>7.088799</td>\n",
       "    </tr>\n",
       "    <tr>\n",
       "      <th>to</th>\n",
       "      <td>1.386294</td>\n",
       "      <td>7.179537</td>\n",
       "      <td>6.806934</td>\n",
       "    </tr>\n",
       "    <tr>\n",
       "      <th>a</th>\n",
       "      <td>1.609438</td>\n",
       "      <td>7.058414</td>\n",
       "      <td>6.588304</td>\n",
       "    </tr>\n",
       "    <tr>\n",
       "      <th>...</th>\n",
       "      <td>...</td>\n",
       "      <td>...</td>\n",
       "      <td>...</td>\n",
       "    </tr>\n",
       "    <tr>\n",
       "      <th>teeming</th>\n",
       "      <td>9.255983</td>\n",
       "      <td>-inf</td>\n",
       "      <td>-0.903601</td>\n",
       "    </tr>\n",
       "    <tr>\n",
       "      <th>nationstates</th>\n",
       "      <td>9.256365</td>\n",
       "      <td>-inf</td>\n",
       "      <td>-0.903975</td>\n",
       "    </tr>\n",
       "    <tr>\n",
       "      <th>hale</th>\n",
       "      <td>9.256556</td>\n",
       "      <td>0.000000</td>\n",
       "      <td>-0.904162</td>\n",
       "    </tr>\n",
       "    <tr>\n",
       "      <th>proliferated</th>\n",
       "      <td>9.257033</td>\n",
       "      <td>-inf</td>\n",
       "      <td>-0.904630</td>\n",
       "    </tr>\n",
       "    <tr>\n",
       "      <th>fallible</th>\n",
       "      <td>9.257415</td>\n",
       "      <td>-inf</td>\n",
       "      <td>-0.905004</td>\n",
       "    </tr>\n",
       "  </tbody>\n",
       "</table>\n",
       "<p>34897 rows × 3 columns</p>\n",
       "</div>"
      ],
      "text/plain": [
       "              Rank (log)  Frequency (log)  Estimated frequency (log)\n",
       "the             0.000000         8.165193                   8.165193\n",
       "of              0.693147         7.518281                   7.486064\n",
       "and             1.098612         7.292882                   7.088799\n",
       "to              1.386294         7.179537                   6.806934\n",
       "a               1.609438         7.058414                   6.588304\n",
       "...                  ...              ...                        ...\n",
       "teeming         9.255983             -inf                  -0.903601\n",
       "nationstates    9.256365             -inf                  -0.903975\n",
       "hale            9.256556         0.000000                  -0.904162\n",
       "proliferated    9.257033             -inf                  -0.904630\n",
       "fallible        9.257415             -inf                  -0.905004\n",
       "\n",
       "[34897 rows x 3 columns]"
      ]
     },
     "execution_count": 360,
     "metadata": {},
     "output_type": "execute_result"
    }
   ],
   "source": [
    "df_2_log"
   ]
  },
  {
   "cell_type": "code",
   "execution_count": 361,
   "metadata": {},
   "outputs": [
    {
     "data": {
      "image/png": "[encoded data removed]",
      "text/plain": [
       "<Figure size 432x288 with 1 Axes>"
      ]
     },
     "metadata": {
      "needs_background": "light"
     },
     "output_type": "display_data"
    }
   ],
   "source": [
    "ax = df_2_log.plot(x ='Rank (log)', y='Frequency (log)', kind = 'scatter')\n",
    "df_2_log.plot(x ='Rank (log)', y='Estimated frequency (log)', kind = 'line', ax=ax, color='red')\n",
    "plt.title(\"Rank-frequency distribution and Zipf's law\")\n",
    "plt.show()"
   ]
  }
 ],
 "metadata": {
  "kernelspec": {
   "display_name": "Python 3",
   "language": "python",
   "name": "python3"
  },
  "language_info": {
   "codemirror_mode": {
    "name": "ipython",
    "version": 3
   },
   "file_extension": ".py",
   "mimetype": "text/x-python",
   "name": "python",
   "nbconvert_exporter": "python",
   "pygments_lexer": "ipython3",
   "version": "3.7.7"
  }
 },
 "nbformat": 4,
 "nbformat_minor": 2
}
